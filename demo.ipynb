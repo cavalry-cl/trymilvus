{
 "cells": [
  {
   "cell_type": "code",
   "execution_count": 1,
   "metadata": {},
   "outputs": [],
   "source": [
    "from gen import generate_vector\n",
    "import json\n",
    "import database_manager as dm\n",
    "from pymilvus import FieldSchema, DataType, CollectionSchema"
   ]
  },
  {
   "cell_type": "code",
   "execution_count": 2,
   "metadata": {},
   "outputs": [
    {
     "data": {
      "text/plain": [
       "<module 'database_manager' from 'd:\\\\GPST\\\\mywork\\\\trymilvus\\\\database_manager.py'>"
      ]
     },
     "execution_count": 2,
     "metadata": {},
     "output_type": "execute_result"
    }
   ],
   "source": [
    "import importlib\n",
    "importlib.reload(dm)"
   ]
  },
  {
   "cell_type": "code",
   "execution_count": 3,
   "metadata": {},
   "outputs": [],
   "source": [
    "uri = \"http://localhost:19530\"\n",
    "db_name = \"test_db\"\n",
    "collection_name = \"test_col\"\n",
    "dim = 16\n"
   ]
  },
  {
   "cell_type": "code",
   "execution_count": 4,
   "metadata": {},
   "outputs": [],
   "source": [
    "id_field = FieldSchema(name=\"id\", dtype=DataType.INT64, is_primary=True, description=\"primary id\")\n",
    "# extra_info = FieldSchema(name=\"ex_info\", dtype=DataType.VARCHAR, description=\"extra information\", max_length=10)\n",
    "vector_field = FieldSchema(name=\"vector\", dtype=DataType.FLOAT_VECTOR, dim=dim, description=\"vector\")\n",
    "# fields = [id_field, extra_info, vector_field]\n",
    "fields = [id_field, vector_field]\n",
    "schema = CollectionSchema(fields=fields)"
   ]
  },
  {
   "cell_type": "code",
   "execution_count": 5,
   "metadata": {},
   "outputs": [],
   "source": [
    "client = dm.initialize_client(uri=uri, db_name=db_name)\n"
   ]
  },
  {
   "cell_type": "code",
   "execution_count": 7,
   "metadata": {},
   "outputs": [],
   "source": [
    "\n",
    "collection = dm.initialize_collection(client=client, collection_name=collection_name, schema=schema)\n",
    "dm.create_scalar_index(client=client, collection_name=collection_name)\n",
    "dm.create_vector_index(client=client, collection_name=collection_name, field_name=\"vector\")"
   ]
  },
  {
   "cell_type": "code",
   "execution_count": 8,
   "metadata": {},
   "outputs": [
    {
     "name": "stdout",
     "output_type": "stream",
     "text": [
      "{\n",
      "  \"collection_name\": \"test_col\",\n",
      "  \"auto_id\": false,\n",
      "  \"num_shards\": 1,\n",
      "  \"description\": \"\",\n",
      "  \"fields\": [\n",
      "    {\n",
      "      \"field_id\": 100,\n",
      "      \"name\": \"id\",\n",
      "      \"description\": \"primary id\",\n",
      "      \"type\": 5,\n",
      "      \"params\": {},\n",
      "      \"is_primary\": true\n",
      "    },\n",
      "    {\n",
      "      \"field_id\": 101,\n",
      "      \"name\": \"vector\",\n",
      "      \"description\": \"vector\",\n",
      "      \"type\": 101,\n",
      "      \"params\": {\n",
      "        \"dim\": 16\n",
      "      }\n",
      "    }\n",
      "  ],\n",
      "  \"aliases\": [],\n",
      "  \"collection_id\": 449685445882160999,\n",
      "  \"consistency_level\": 2,\n",
      "  \"properties\": {},\n",
      "  \"num_partitions\": 1,\n",
      "  \"enable_dynamic_field\": false\n",
      "}\n"
     ]
    }
   ],
   "source": [
    "print(json.dumps(client.describe_collection(collection_name=collection_name), indent=2))\n"
   ]
  },
  {
   "cell_type": "code",
   "execution_count": 9,
   "metadata": {},
   "outputs": [
    {
     "name": "stdout",
     "output_type": "stream",
     "text": [
      "['scalar_index', 'vector_index']\n",
      "{\n",
      "  \"index_type\": \"STL_SORT\",\n",
      "  \"field_name\": \"id\",\n",
      "  \"index_name\": \"scalar_index\"\n",
      "}\n",
      "{\n",
      "  \"index_type\": \"FLAT\",\n",
      "  \"metric_type\": \"L2\",\n",
      "  \"field_name\": \"vector\",\n",
      "  \"index_name\": \"vector_index\"\n",
      "}\n"
     ]
    }
   ],
   "source": [
    "print(client.list_indexes(collection_name=collection_name))\n",
    "for index_name in client.list_indexes(collection_name=collection_name):\n",
    "    print(json.dumps(client.describe_index(collection_name=collection_name, index_name=index_name), indent=2))\n",
    "    "
   ]
  },
  {
   "cell_type": "code",
   "execution_count": 10,
   "metadata": {},
   "outputs": [
    {
     "data": {
      "text/plain": [
       "{'upsert_count': 5}"
      ]
     },
     "execution_count": 10,
     "metadata": {},
     "output_type": "execute_result"
    }
   ],
   "source": [
    "vectors = generate_vector(cnt=5, dim=dim, mx=5)\n",
    "data = dm.create_entries(vectors=vectors)\n",
    "client.upsert(collection_name=collection_name, data=data)\n"
   ]
  },
  {
   "cell_type": "code",
   "execution_count": 11,
   "metadata": {},
   "outputs": [
    {
     "name": "stdout",
     "output_type": "stream",
     "text": [
      "[{'id': 3, 'vector': [0.7440138, -1.5468471, -1.3815701, -1.7754685, -4.4554243, 0.28276268, 0.7214891, -1.8314956, -0.05402502, 1.3735344, 1.2580377, -0.124183826, -3.5716295, -2.3025086, -0.8880386, 2.913734]}, {'id': 4, 'vector': [0.13458638, 3.1460488, 0.92004573, -0.3792929, -0.5139929, -3.9752426, 3.368728, -0.84479517, 4.269142, 4.3546596, 0.92113, 4.4358935, 4.4226913, 2.157279, 3.8224192, -1.0377874]}, {'id': 5, 'vector': [-2.5981934, 4.6048746, 0.18097398, -3.6399827, 3.7097256, 2.1265006, 1.2909718, -0.43676138, -3.0506036, -3.3720016, -4.326305, 1.102544, -1.2360549, 2.3676863, 0.36953095, 3.0712276]}]\n"
     ]
    }
   ],
   "source": [
    "client.load_collection(collection_name=collection_name)\n",
    "print(client.query(collection_name=collection_name, filter=\"3<=id<=10\",output_fields=[\"id\", \"vector\"]))\n"
   ]
  },
  {
   "cell_type": "code",
   "execution_count": 12,
   "metadata": {},
   "outputs": [
    {
     "data": {
      "text/plain": [
       "{'upsert_count': 5}"
      ]
     },
     "execution_count": 12,
     "metadata": {},
     "output_type": "execute_result"
    }
   ],
   "source": [
    "vectors = generate_vector(cnt=5, dim=dim, mx=5)\n",
    "data = dm.create_entries(vectors=vectors, ids=[2,3,4,5,6])\n",
    "client.upsert(collection_name=collection_name, data=data)"
   ]
  },
  {
   "cell_type": "code",
   "execution_count": 13,
   "metadata": {},
   "outputs": [
    {
     "name": "stdout",
     "output_type": "stream",
     "text": [
      "[{'id': 3, 'vector': [-2.4593275, -4.536549, 3.9471092, 3.0760763, -2.9431765, -4.567603, 3.637244, -0.6058879, 3.693978, 4.341534, 1.3014174, 2.0279787, -0.1514137, -1.7452315, 0.32339856, 1.9948853]}, {'id': 4, 'vector': [-0.009040037, -4.3773456, -1.9189106, -3.6090865, 0.7528663, -3.5869615, 0.83341104, -3.8600447, 2.1926188, 4.604464, 2.3016715, 1.4256666, 4.4402337, 1.2564477, -3.194402, -1.5945774]}, {'id': 5, 'vector': [-3.3658519, 2.385287, -3.3778691, -1.3815538, -3.3658893, 2.6481626, 0.7066092, 2.3477223, -3.2879288, 1.7602117, 4.143479, -4.2692857, -1.187632, 2.4332628, 0.16690332, -1.6893855]}, {'id': 6, 'vector': [2.1865954, 0.5424491, -1.7929579, 4.090019, 2.782146, -0.048798874, -2.4762669, -0.24866274, -4.50565, 4.261579, 2.6250494, -0.6355131, -4.4113493, 4.9396825, 3.7217698, -1.9897586]}]\n"
     ]
    }
   ],
   "source": [
    "client.load_collection(collection_name=collection_name)\n",
    "print(client.query(collection_name=collection_name, filter=\"3<=id<=10\",output_fields=[\"id\", \"vector\"]))\n"
   ]
  }
 ],
 "metadata": {
  "kernelspec": {
   "display_name": "Python 3",
   "language": "python",
   "name": "python3"
  },
  "language_info": {
   "codemirror_mode": {
    "name": "ipython",
    "version": 3
   },
   "file_extension": ".py",
   "mimetype": "text/x-python",
   "name": "python",
   "nbconvert_exporter": "python",
   "pygments_lexer": "ipython3",
   "version": "3.12.3"
  }
 },
 "nbformat": 4,
 "nbformat_minor": 2
}
