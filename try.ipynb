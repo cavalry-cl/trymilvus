{
 "cells": [
  {
   "cell_type": "code",
   "execution_count": 7,
   "metadata": {},
   "outputs": [],
   "source": [
    "import numpy as np\n",
    "import torch\n",
    "from gen import generate_vector\n",
    "import json"
   ]
  },
  {
   "cell_type": "code",
   "execution_count": 8,
   "metadata": {},
   "outputs": [],
   "source": [
    "dim = 8\n",
    "save_path = \"test_vector.npy\""
   ]
  },
  {
   "cell_type": "code",
   "execution_count": 9,
   "metadata": {},
   "outputs": [
    {
     "name": "stdout",
     "output_type": "stream",
     "text": [
      "[[-0.71094584 -4.31944206 -9.13263801  9.2987121  -4.46483544  3.63263492\n",
      "  -6.56336777 -6.50199216]\n",
      " [ 5.43638086  0.65285887  9.9046036  -9.77260702 -0.39844674 -0.54828253\n",
      "  -9.37628447  7.06817142]\n",
      " [ 5.9102891  -6.95446651  1.36924797 -4.56595341 -1.366658   -2.27363413\n",
      "  -4.79990715 -4.19061287]]\n"
     ]
    }
   ],
   "source": [
    "input = generate_vector(cnt=3, dim=dim, mx=10, save_path=save_path)\n",
    "print(input)"
   ]
  },
  {
   "cell_type": "code",
   "execution_count": 10,
   "metadata": {},
   "outputs": [
    {
     "name": "stdout",
     "output_type": "stream",
     "text": [
      "[[-0.71094584 -4.31944206 -9.13263801  9.2987121  -4.46483544  3.63263492\n",
      "  -6.56336777 -6.50199216]\n",
      " [ 5.43638086  0.65285887  9.9046036  -9.77260702 -0.39844674 -0.54828253\n",
      "  -9.37628447  7.06817142]\n",
      " [ 5.9102891  -6.95446651  1.36924797 -4.56595341 -1.366658   -2.27363413\n",
      "  -4.79990715 -4.19061287]]\n"
     ]
    }
   ],
   "source": [
    "input_vector = np.load(save_path)\n",
    "print(input_vector)"
   ]
  },
  {
   "cell_type": "code",
   "execution_count": 13,
   "metadata": {},
   "outputs": [],
   "source": [
    "from pymilvus import MilvusClient, DataType, connections, db, Role, Collection, FieldSchema, CollectionSchema\n",
    "\n",
    "connections.connect(host=\"127.0.0.1\", port=19530)\n",
    "if \"test\" not in db.list_database():\n",
    "    db.create_database(\"test\")\n",
    "db.using_database(\"test\")\n",
    "client = MilvusClient(uri=\"http://localhost:19530\", db_name=\"test\")\n"
   ]
  },
  {
   "cell_type": "code",
   "execution_count": 14,
   "metadata": {},
   "outputs": [],
   "source": [
    "id_field = FieldSchema(name=\"id\", dtype=DataType.INT64, is_primary=True, description=\"primary id\")\n",
    "vector_field = FieldSchema(name=\"vector\", dtype=DataType.FLOAT_VECTOR, dim=dim, description=\"vector\")\n",
    "\n",
    "fields = [id_field, vector_field]\n",
    "schema = CollectionSchema(fields=fields)"
   ]
  },
  {
   "cell_type": "code",
   "execution_count": 15,
   "metadata": {},
   "outputs": [],
   "source": [
    "if \"test\" in client.list_collections():\n",
    "    client.drop_collection(\"test\")\n",
    "collection = Collection(name=\"test\", schema=schema)"
   ]
  },
  {
   "cell_type": "code",
   "execution_count": 16,
   "metadata": {},
   "outputs": [
    {
     "data": {
      "text/plain": [
       "Status(code=0, message=)"
      ]
     },
     "execution_count": 16,
     "metadata": {},
     "output_type": "execute_result"
    }
   ],
   "source": [
    "index_params = client.prepare_index_params()\n",
    "index_params = {\n",
    "    \"metric_type\": \"L2\",\n",
    "    \"index_type\": \"GPU_IVF_PQ\",\n",
    "    \"params\": {\n",
    "        \"nlist\": 3, \"m\":2\n",
    "    }\n",
    "}\n",
    "collection.drop_index()\n",
    "collection.create_index(\n",
    "    field_name=\"vector\",\n",
    "    index_params=index_params\n",
    ")"
   ]
  },
  {
   "cell_type": "code",
   "execution_count": 17,
   "metadata": {},
   "outputs": [
    {
     "name": "stdout",
     "output_type": "stream",
     "text": [
      "_default_idx_101\n"
     ]
    }
   ],
   "source": [
    "index_name = client.list_indexes(\n",
    "    collection_name=\"test\"\n",
    ")[0]\n",
    "\n",
    "print(index_name)"
   ]
  },
  {
   "cell_type": "code",
   "execution_count": 18,
   "metadata": {},
   "outputs": [
    {
     "name": "stdout",
     "output_type": "stream",
     "text": [
      "{\n",
      "  \"collection_name\": \"test\",\n",
      "  \"auto_id\": false,\n",
      "  \"num_shards\": 1,\n",
      "  \"description\": \"\",\n",
      "  \"fields\": [\n",
      "    {\n",
      "      \"field_id\": 100,\n",
      "      \"name\": \"id\",\n",
      "      \"description\": \"primary id\",\n",
      "      \"type\": 5,\n",
      "      \"params\": {},\n",
      "      \"is_primary\": true\n",
      "    },\n",
      "    {\n",
      "      \"field_id\": 101,\n",
      "      \"name\": \"vector\",\n",
      "      \"description\": \"vector\",\n",
      "      \"type\": 101,\n",
      "      \"params\": {\n",
      "        \"dim\": 8\n",
      "      }\n",
      "    }\n",
      "  ],\n",
      "  \"aliases\": [],\n",
      "  \"collection_id\": 449369633535557748,\n",
      "  \"consistency_level\": 2,\n",
      "  \"properties\": {},\n",
      "  \"num_partitions\": 1,\n",
      "  \"enable_dynamic_field\": false\n",
      "}\n",
      "{\n",
      "  \"metric_type\": \"L2\",\n",
      "  \"index_type\": \"GPU_IVF_PQ\",\n",
      "  \"params\": {\n",
      "    \"nlist\": 3,\n",
      "    \"m\": 2\n",
      "  },\n",
      "  \"field_name\": \"vector\",\n",
      "  \"index_name\": \"_default_idx_101\"\n",
      "}\n"
     ]
    }
   ],
   "source": [
    "print(json.dumps(collection.describe(), indent=2))\n",
    "print(json.dumps(client.describe_index(collection_name=\"test\",index_name=index_name), indent=2))"
   ]
  },
  {
   "cell_type": "code",
   "execution_count": 19,
   "metadata": {},
   "outputs": [],
   "source": [
    "n = 10\n",
    "input = generate_vector(cnt=10, dim=dim, mx=10)\n",
    "data = create_entries(input)\n",
    "# print(data)"
   ]
  },
  {
   "cell_type": "code",
   "execution_count": 20,
   "metadata": {},
   "outputs": [
    {
     "name": "stdout",
     "output_type": "stream",
     "text": [
      "{'upsert_count': 10}\n"
     ]
    }
   ],
   "source": [
    "res = client.upsert(\n",
    "    collection_name=\"test\",\n",
    "    data=data\n",
    ")\n",
    "print(res)"
   ]
  },
  {
   "cell_type": "code",
   "execution_count": 21,
   "metadata": {},
   "outputs": [
    {
     "name": "stdout",
     "output_type": "stream",
     "text": [
      "[2, 5, 8]\n"
     ]
    }
   ],
   "source": [
    "delete_ids = [2, 5, 8]\n",
    "\n",
    "def create_delete_filter(delete_ids):\n",
    "    return f\"id in [{','.join([str(id) for id in delete_ids])}]\"\n",
    "\n",
    "res = client.delete(\n",
    "    collection_name=\"test\",\n",
    "    filter=create_delete_filter(delete_ids)\n",
    ")\n",
    "print(res)\n"
   ]
  },
  {
   "cell_type": "code",
   "execution_count": 22,
   "metadata": {},
   "outputs": [
    {
     "data": {
      "text/plain": [
       "{'insert_count': 3, 'ids': [2, 5, 8]}"
      ]
     },
     "execution_count": 22,
     "metadata": {},
     "output_type": "execute_result"
    }
   ],
   "source": [
    "insert_ids = [2, 5, 8]\n",
    "insert_vecs = generate_vector(cnt=3, dim=dim, mx=5)\n",
    "insert_data = create_entries(insert_vecs, insert_ids)\n",
    "client.insert(collection_name=\"test\", data=insert_data)\n"
   ]
  },
  {
   "cell_type": "code",
   "execution_count": 23,
   "metadata": {},
   "outputs": [
    {
     "data": {
      "text/plain": [
       "{'upsert_count': 4}"
      ]
     },
     "execution_count": 23,
     "metadata": {},
     "output_type": "execute_result"
    }
   ],
   "source": [
    "upsert_ids = [2, 5, 8, 11]\n",
    "upsert_vecs = generate_vector(cnt=4, dim=dim, mx=5)\n",
    "upsert_data = create_entries(upsert_vecs, upsert_ids)\n",
    "client.upsert(collection_name=\"test\", data=upsert_data)"
   ]
  },
  {
   "cell_type": "code",
   "execution_count": 24,
   "metadata": {},
   "outputs": [],
   "source": [
    "client.load_collection(collection_name=\"test\")"
   ]
  },
  {
   "cell_type": "code",
   "execution_count": 25,
   "metadata": {},
   "outputs": [
    {
     "name": "stdout",
     "output_type": "stream",
     "text": [
      "[\n",
      "    [\n",
      "        {\n",
      "            \"id\": 3,\n",
      "            \"distance\": 223.89996337890625,\n",
      "            \"entity\": {\n",
      "                \"id\": 3\n",
      "            }\n",
      "        },\n",
      "        {\n",
      "            \"id\": 2,\n",
      "            \"distance\": 263.5295104980469,\n",
      "            \"entity\": {\n",
      "                \"id\": 2\n",
      "            }\n",
      "        }\n",
      "    ]\n",
      "]\n"
     ]
    }
   ],
   "source": [
    "res = client.search(\n",
    "    collection_name='test',\n",
    "    data=[[1,2,3,4,5,6,7,8]],\n",
    "    limit=2,\n",
    "    output_fields=['id'],\n",
    "    filter='id > 1 and id < 7',\n",
    ")\n",
    "\n",
    "print(json.dumps(res, indent=4))"
   ]
  },
  {
   "cell_type": "code",
   "execution_count": 58,
   "metadata": {},
   "outputs": [
    {
     "name": "stdout",
     "output_type": "stream",
     "text": [
      "['scalar_index', 'attempt']\n"
     ]
    }
   ],
   "source": [
    "import database_manager\n",
    "database_manager.create_vector_index(client=client, collection_name=\"test\",index_name=\"attempt\",field_name=\"vector\")\n",
    "database_manager.create_scalar_index(client=client, collection_name=\"test\")\n",
    "print(client.list_indexes(collection_name=\"test\"))"
   ]
  },
  {
   "cell_type": "code",
   "execution_count": 52,
   "metadata": {},
   "outputs": [
    {
     "data": {
      "text/plain": [
       "<module 'database_manage' from 'd:\\\\GPST\\\\mywork\\\\trymilvus\\\\database_manage.py'>"
      ]
     },
     "execution_count": 52,
     "metadata": {},
     "output_type": "execute_result"
    }
   ],
   "source": [
    "import importlib\n",
    "importlib.reload(database_manager)"
   ]
  }
 ],
 "metadata": {
  "kernelspec": {
   "display_name": "Python 3",
   "language": "python",
   "name": "python3"
  },
  "language_info": {
   "codemirror_mode": {
    "name": "ipython",
    "version": 3
   },
   "file_extension": ".py",
   "mimetype": "text/x-python",
   "name": "python",
   "nbconvert_exporter": "python",
   "pygments_lexer": "ipython3",
   "version": "3.11.2"
  }
 },
 "nbformat": 4,
 "nbformat_minor": 2
}
